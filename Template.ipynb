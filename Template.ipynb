{
 "cells": [
  {
   "cell_type": "markdown",
   "metadata": {},
   "source": [
    "# Setup "
   ]
  },
  {
   "cell_type": "code",
   "execution_count": null,
   "metadata": {},
   "outputs": [],
   "source": [
    "BOX_API_CREDENATIALS_PATH = 'BoxApiCredentials/'\n",
    "#BOX_API_CODE_PATH = 'BoxApiCode/'"
   ]
  },
  {
   "cell_type": "markdown",
   "metadata": {},
   "source": [
    "# Using The Box API"
   ]
  },
  {
   "cell_type": "code",
   "execution_count": 4,
   "metadata": {},
   "outputs": [],
   "source": [
    "from BoxApiCode.boxApiJson import BoxApiJson"
   ]
  },
  {
   "cell_type": "code",
   "execution_count": 6,
   "metadata": {},
   "outputs": [],
   "source": [
    "BoxApi = BoxApiJson(jsonPath=BOX_API_CREDENATIALS_PATH+'BoxCredentials.json')"
   ]
  },
  {
   "cell_type": "code",
   "execution_count": 14,
   "metadata": {},
   "outputs": [
    {
     "name": "stdout",
     "output_type": "stream",
     "text": [
      "Help on BoxApiJson in module BoxApiCode.boxApiJson object:\n",
      "\n",
      "class BoxApiJson(builtins.object)\n",
      " |  BoxApiJson(jsonPath)\n",
      " |  \n",
      " |  Methods defined here:\n",
      " |  \n",
      " |  __init__(self, jsonPath)\n",
      " |      Initialize self.  See help(type(self)) for accurate signature.\n",
      " |  \n",
      " |  createNewFolder(self, masterFolderId, subFolderName)\n",
      " |  \n",
      " |  downloadFile(self, fileId, filePath)\n",
      " |      This will replace the file if it already exist in your local path\n",
      " |  \n",
      " |  downloadFileByName(self, folderId, fileName)\n",
      " |      to download a file using the name only\n",
      " |  \n",
      " |  getFolderInfo(self, folderId)\n",
      " |  \n",
      " |  getItemsFromFolder(self, folderId)\n",
      " |      This will get the folders inside a master folder\n",
      " |      This will return a list of dictionaries with all the items in a folder\n",
      " |  \n",
      " |  readGzipParquet(self, fileId)\n",
      " |  \n",
      " |  readTxt(self, fileId)\n",
      " |  \n",
      " |  uploadFileVersion(self, filePath, fileId)\n",
      " |      Upload a new version of a file already in box\n",
      " |  \n",
      " |  uploadNewFile(self, filePath, folderId)\n",
      " |      If the file exist this will failed \n",
      " |      This will return the dictionary:\n",
      " |          {'newFileName': newFile.name,\n",
      " |              'newFileId': newFile.id}\n",
      " |  \n",
      " |  uploadNewOrVersion(self, folderId, fileName, filePath)\n",
      " |  \n",
      " |  uploadParquetDirectly(self, df, fileName, folderId)\n",
      " |  \n",
      " |  ----------------------------------------------------------------------\n",
      " |  Data descriptors defined here:\n",
      " |  \n",
      " |  __dict__\n",
      " |      dictionary for instance variables (if defined)\n",
      " |  \n",
      " |  __weakref__\n",
      " |      list of weak references to the object (if defined)\n",
      "\n"
     ]
    }
   ],
   "source": [
    "# Here it is the modules you can use from the box api class\n",
    "help(BoxApi)"
   ]
  },
  {
   "cell_type": "code",
   "execution_count": 11,
   "metadata": {},
   "outputs": [],
   "source": [
    "folderItems = BoxApi.getItemsFromFolder(folderId='0')"
   ]
  },
  {
   "cell_type": "code",
   "execution_count": 12,
   "metadata": {},
   "outputs": [
    {
     "data": {
      "text/plain": [
       "[{'item_type': 'Folder', 'item_id': '224393402106', 'item_name': 'Documents'}]"
      ]
     },
     "execution_count": 12,
     "metadata": {},
     "output_type": "execute_result"
    }
   ],
   "source": [
    "folderItems"
   ]
  }
 ],
 "metadata": {
  "kernelspec": {
   "display_name": "p10_disputes",
   "language": "python",
   "name": "python3"
  },
  "language_info": {
   "codemirror_mode": {
    "name": "ipython",
    "version": 3
   },
   "file_extension": ".py",
   "mimetype": "text/x-python",
   "name": "python",
   "nbconvert_exporter": "python",
   "pygments_lexer": "ipython3",
   "version": "3.10.12"
  },
  "orig_nbformat": 4
 },
 "nbformat": 4,
 "nbformat_minor": 2
}
